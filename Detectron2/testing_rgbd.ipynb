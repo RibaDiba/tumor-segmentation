{
 "cells": [
  {
   "cell_type": "code",
   "execution_count": 12,
   "metadata": {},
   "outputs": [
    {
     "name": "stdout",
     "output_type": "stream",
     "text": [
      "Current working dir:  c:\\Users\\abrmo\\OneDrive\\Desktop\\mouse-tumor-segmentation\\lib\\preprocessing\n"
     ]
    }
   ],
   "source": [
    "#imports \n",
    "import random, os, matplotlib.pyplot as plt, importlib, cv2\n",
    "import numpy as np\n",
    "\n",
    "# use os.chdir to make the imports work \n",
    "print(\"Current working dir: \", os.getcwd())\n",
    "\n",
    "import preprocess_images\n",
    "importlib.reload(preprocess_images)\n",
    "from preprocess_images import preprocess_rgbd, preprocess_grayscale"
   ]
  },
  {
   "cell_type": "code",
   "execution_count": 13,
   "metadata": {},
   "outputs": [
    {
     "name": "stderr",
     "output_type": "stream",
     "text": [
      "Reading Bin Files: 100%|██████████| 6/6 [00:14<00:00,  2.44s/it]\n",
      "Saving Contour Plots: 100%|██████████| 2/2 [00:00<00:00, 11.64it/s]"
     ]
    },
    {
     "name": "stdout",
     "output_type": "stream",
     "text": [
      "Number of Images: 2\n",
      "\n",
      "Number of Train Images: 2\n",
      "Number of Val Images: 0\n",
      "Number of Test Images: 0\n"
     ]
    },
    {
     "name": "stderr",
     "output_type": "stream",
     "text": [
      "\n"
     ]
    },
    {
     "ename": "ValueError",
     "evalue": "too many values to unpack (expected 4)",
     "output_type": "error",
     "traceback": [
      "\u001b[1;31m---------------------------------------------------------------------------\u001b[0m",
      "\u001b[1;31mValueError\u001b[0m                                Traceback (most recent call last)",
      "Cell \u001b[1;32mIn[13], line 1\u001b[0m\n\u001b[1;32m----> 1\u001b[0m images, og_images, masks, depth_maps \u001b[38;5;241m=\u001b[39m preprocess_grayscale(\u001b[38;5;124m\"\u001b[39m\u001b[38;5;124m../../data/test_data\u001b[39m\u001b[38;5;124m\"\u001b[39m, \u001b[38;5;241m100\u001b[39m, \u001b[38;5;241m0\u001b[39m, \u001b[38;5;241m0\u001b[39m)\n\u001b[0;32m      3\u001b[0m fig, ax \u001b[38;5;241m=\u001b[39m plt\u001b[38;5;241m.\u001b[39msubplots(\u001b[38;5;241m1\u001b[39m,\u001b[38;5;241m3\u001b[39m, figsize\u001b[38;5;241m=\u001b[39m[\u001b[38;5;241m15\u001b[39m,\u001b[38;5;241m15\u001b[39m])\n\u001b[0;32m      5\u001b[0m ax[\u001b[38;5;241m0\u001b[39m]\u001b[38;5;241m.\u001b[39mimshow(cv2\u001b[38;5;241m.\u001b[39mcvtColor(og_images[\u001b[38;5;241m0\u001b[39m], cv2\u001b[38;5;241m.\u001b[39mCOLOR_BGR2RGB))\n",
      "\u001b[1;31mValueError\u001b[0m: too many values to unpack (expected 4)"
     ]
    }
   ],
   "source": [
    "\n",
    "images, og_images, masks, depth_maps = preprocess_grayscale(\"../../data/test_data\", 100, 0, 0)\n",
    "\n",
    "fig, ax = plt.subplots(1,3, figsize=[15,15])\n",
    "\n",
    "ax[0].imshow(cv2.cvtColor(og_images[0], cv2.COLOR_BGR2RGB))\n",
    "ax[0].set_title(\"OG\")\n",
    "\n",
    "ax[1].imshow(cv2.cvtColor(images[0], cv2.COLOR_BGR2RGB))\n",
    "ax[1].set_title(\"New\")\n",
    "\n",
    "ax[2].imshow(masks[0])\n"
   ]
  },
  {
   "cell_type": "code",
   "execution_count": null,
   "metadata": {},
   "outputs": [],
   "source": []
  }
 ],
 "metadata": {
  "kernelspec": {
   "display_name": "tumor-env",
   "language": "python",
   "name": "python3"
  },
  "language_info": {
   "codemirror_mode": {
    "name": "ipython",
    "version": 3
   },
   "file_extension": ".py",
   "mimetype": "text/x-python",
   "name": "python",
   "nbconvert_exporter": "python",
   "pygments_lexer": "ipython3",
   "version": "3.11.9"
  }
 },
 "nbformat": 4,
 "nbformat_minor": 2
}
