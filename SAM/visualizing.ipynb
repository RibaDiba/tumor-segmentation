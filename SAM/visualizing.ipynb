{
 "cells": [
  {
   "cell_type": "code",
   "execution_count": null,
   "id": "03642185-f401-4658-8cca-5c42f6c35aaa",
   "metadata": {},
   "outputs": [],
   "source": [
    "# import python libraries\n",
    "import cv2, os, random, importlib, numpy as np\n",
    "import matplotlib.pyplot as plt \n",
    "from PIL import Image\n",
    "from transformers import SamModel, SamConfig, SamProcessor\n",
    "import torch\n",
    "\n",
    "# import custom scripts \n",
    "import preprocess_images\n",
    "import get_bounding_box\n",
    "\n",
    "# reload and declare functions \n",
    "importlib.reload(preprocess_images)\n",
    "importlib.reload(get_bounding_box)\n",
    "\n",
    "from preprocess_images import preprocess_grayscale, preprocess_rgb, preprocess_rgbd\n",
    "from get_bounding_box import get_bounding_box, get_bounding_box_circumscribed\n",
    "\n",
    "# double check to make sure the right weights are called \n",
    "model_config = SamConfig.from_pretrained(\"facebook/sam-vit-base\")\n",
    "processor = SamProcessor.from_pretrained(\"facebook/sam-vit-base\")\n",
    "\n",
    "folder_path_model = './models/SAM_rgb.pth'\n",
    "\n",
    "my_mito_model = SamModel(config=model_config)\n",
    "my_mito_model.load_state_dict(torch.load('./models/SAM_rgb.pth'))\n",
    "\n",
    "# set the device to cuda if available, otherwise use cpu\n",
    "device = \"cuda\" if torch.cuda.is_available() else \"cpu\"\n",
    "my_mito_model.to(device)\n",
    "\n"
   ]
  },
  {
   "cell_type": "code",
   "execution_count": null,
   "id": "a5fe596f-fd4e-4506-a948-ea4bf54541f0",
   "metadata": {},
   "outputs": [],
   "source": [
    "train_images, train_masks, val_images, val_masks, test_images, test_masks  = preprocess_rgb()"
   ]
  },
  {
   "cell_type": "code",
   "execution_count": null,
   "id": "49acd46b-0f4e-4e33-9ab1-505e09159621",
   "metadata": {},
   "outputs": [],
   "source": [
    "# load image\n",
    "test_image = test_images[idx]\n",
    "ground_truth_mask = test_masks[idx]\n",
    "\n",
    "# use only if using input_points\n",
    "#pointer_prompt = [100,150]\n",
    "\n",
    "# the code below has been adapted from the creators of the medsam model and has been adapted for our use case \n",
    "# main difference: probablity map \n",
    "\n",
    "prompt = get_bounding_box(ground_truth_mask)\n",
    "\n",
    "inputs = processor(test_image, input_boxes=[[prompt]], return_tensors=\"pt\")\n",
    "inputs = {k: v.to(device) for k, v in inputs.items()}\n",
    "\n",
    "my_mito_model.eval()\n",
    "\n",
    "with torch.no_grad():\n",
    "    outputs = my_mito_model(**inputs, multimask_output=False)\n",
    "\n",
    "medsam_seg_prob = torch.sigmoid(outputs.pred_masks.squeeze(1))\n",
    "medsam_seg_prob = medsam_seg_prob.cpu().numpy().squeeze()\n",
    "medsam_seg = (medsam_seg_prob > 0.5).astype(np.uint8)\n",
    "\n",
    "fig, axes = plt.subplots(1, 3, figsize=(15, 5))\n",
    "\n",
    "bbox = prompt\n",
    "rect = Rectangle((bbox[0], bbox[1]), bbox[2], bbox[3], linewidth=2, edgecolor='r', facecolor='none')\n",
    "axes[0].add_patch(rect)\n",
    "\n",
    "axes[0].imshow(np.array(test_image), cmap='gray')\n",
    "axes[0].set_title(\"Image\")\n",
    "\n",
    "# Plot the second image on the right\n",
    "axes[1].imshow(medsam_seg, cmap='gray')\n",
    "axes[1].set_title(\"Mask\")\n",
    "\n",
    "axes[2].imshow(test_masks[idx], cmap = \"gray\")\n",
    "axes[2].set_title(\"Orginal Mask\")\n",
    "\n",
    "for ax in axes:\n",
    "    ax.axis(\"off\")"
   ]
  }
 ],
 "metadata": {
  "kernelspec": {
   "display_name": "detectron2-env",
   "language": "python",
   "name": "python3"
  },
  "language_info": {
   "codemirror_mode": {
    "name": "ipython",
    "version": 3
   },
   "file_extension": ".py",
   "mimetype": "text/x-python",
   "name": "python",
   "nbconvert_exporter": "python",
   "pygments_lexer": "ipython3",
   "version": "3.12.5"
  }
 },
 "nbformat": 4,
 "nbformat_minor": 5
}
