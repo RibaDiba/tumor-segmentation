{
 "cells": [
  {
   "cell_type": "code",
   "execution_count": 3,
   "id": "814bf32e-fa1f-4c55-8c30-5e3be105ea2d",
   "metadata": {},
   "outputs": [
    {
     "name": "stderr",
     "output_type": "stream",
     "text": [
      "Reading Bin Files:   3%|▎         | 21/825 [00:12<07:45,  1.73it/s]\n"
     ]
    },
    {
     "ename": "KeyboardInterrupt",
     "evalue": "",
     "output_type": "error",
     "traceback": [
      "\u001b[0;31m---------------------------------------------------------------------------\u001b[0m",
      "\u001b[0;31mKeyboardInterrupt\u001b[0m                         Traceback (most recent call last)",
      "Cell \u001b[0;32mIn[3], line 10\u001b[0m\n\u001b[1;32m      6\u001b[0m importlib\u001b[38;5;241m.\u001b[39mreload(get_loss)\n\u001b[1;32m      8\u001b[0m \u001b[38;5;28;01mfrom\u001b[39;00m \u001b[38;5;21;01mget_loss\u001b[39;00m \u001b[38;5;28;01mimport\u001b[39;00m get_loss_rgb, get_loss_grayscale, get_loss_rgbd\n\u001b[0;32m---> 10\u001b[0m get_loss_rgbd(\u001b[38;5;124m\"\u001b[39m\u001b[38;5;124m../models/SAM1_infused_images.pth\u001b[39m\u001b[38;5;124m\"\u001b[39m)\n",
      "File \u001b[0;32m~/mouse-tumor-segmentation/lib/get_loss.py:118\u001b[0m, in \u001b[0;36mget_loss_rgbd\u001b[0;34m(model_path, UseMedSAM)\u001b[0m\n\u001b[1;32m    116\u001b[0m \u001b[38;5;28;01mdef\u001b[39;00m \u001b[38;5;21mget_loss_rgbd\u001b[39m(model_path, UseMedSAM\u001b[38;5;241m=\u001b[39m\u001b[38;5;28;01mFalse\u001b[39;00m): \n\u001b[0;32m--> 118\u001b[0m     train_images, train_masks, val_images, val_masks, test_images, test_masks \u001b[38;5;241m=\u001b[39m preprocess_rgbd(\u001b[38;5;124m'\u001b[39m\u001b[38;5;124m../data/useable_data\u001b[39m\u001b[38;5;124m'\u001b[39m, \u001b[38;5;241m70\u001b[39m, \u001b[38;5;241m15\u001b[39m, \u001b[38;5;241m15\u001b[39m)\n\u001b[1;32m    120\u001b[0m     \u001b[38;5;66;03m# define our loss function\u001b[39;00m\n\u001b[1;32m    121\u001b[0m     seg_loss \u001b[38;5;241m=\u001b[39m monai\u001b[38;5;241m.\u001b[39mlosses\u001b[38;5;241m.\u001b[39mDiceFocalLoss(sigmoid\u001b[38;5;241m=\u001b[39m\u001b[38;5;28;01mTrue\u001b[39;00m, squared_pred\u001b[38;5;241m=\u001b[39m\u001b[38;5;28;01mTrue\u001b[39;00m, reduction\u001b[38;5;241m=\u001b[39m\u001b[38;5;124m'\u001b[39m\u001b[38;5;124mmean\u001b[39m\u001b[38;5;124m'\u001b[39m)\n",
      "File \u001b[0;32m~/mouse-tumor-segmentation/lib/preprocess_images.py:403\u001b[0m, in \u001b[0;36mpreprocess_rgbd\u001b[0;34m(folder_path, per_train, per_val, per_test)\u001b[0m\n\u001b[1;32m    401\u001b[0m \u001b[38;5;28;01mdef\u001b[39;00m \u001b[38;5;21mpreprocess_rgbd\u001b[39m(folder_path, per_train, per_val, per_test):\n\u001b[0;32m--> 403\u001b[0m     data_array \u001b[38;5;241m=\u001b[39m read_all_bins(folder_path)\n\u001b[1;32m    404\u001b[0m     depth_maps \u001b[38;5;241m=\u001b[39m read_contours_array(data_array)\n\u001b[1;32m    406\u001b[0m     images \u001b[38;5;241m=\u001b[39m read_images_to_array(folder_path)\n",
      "File \u001b[0;32m~/mouse-tumor-segmentation/lib/preprocess_images.py:228\u001b[0m, in \u001b[0;36mread_all_bins\u001b[0;34m(folder_path)\u001b[0m\n\u001b[1;32m    226\u001b[0m      \u001b[38;5;28;01mif\u001b[39;00m filename\u001b[38;5;241m.\u001b[39mendswith(\u001b[38;5;124m\"\u001b[39m\u001b[38;5;124m.bin\u001b[39m\u001b[38;5;124m\"\u001b[39m):\n\u001b[1;32m    227\u001b[0m           file_path \u001b[38;5;241m=\u001b[39m os\u001b[38;5;241m.\u001b[39mpath\u001b[38;5;241m.\u001b[39mjoin(folder_path, filename)\n\u001b[0;32m--> 228\u001b[0m           x, y, z \u001b[38;5;241m=\u001b[39m read_bin(file_path)\n\u001b[1;32m    229\u001b[0m           data_array\u001b[38;5;241m.\u001b[39mappend((x, y, z, filename)) \n\u001b[1;32m    231\u001b[0m \u001b[38;5;28;01mreturn\u001b[39;00m data_array\n",
      "File \u001b[0;32m~/mouse-tumor-segmentation/lib/preprocess_images.py:216\u001b[0m, in \u001b[0;36mread_bin\u001b[0;34m(file_path)\u001b[0m\n\u001b[1;32m    209\u001b[0m z \u001b[38;5;241m=\u001b[39m points[:, \u001b[38;5;241m2\u001b[39m]\n\u001b[1;32m    211\u001b[0m grid_x, grid_y \u001b[38;5;241m=\u001b[39m np\u001b[38;5;241m.\u001b[39mmeshgrid(\n\u001b[1;32m    212\u001b[0m     np\u001b[38;5;241m.\u001b[39mlinspace(\u001b[38;5;28mmin\u001b[39m(x), \u001b[38;5;28mmax\u001b[39m(x), \u001b[38;5;241m256\u001b[39m),\n\u001b[1;32m    213\u001b[0m     np\u001b[38;5;241m.\u001b[39mlinspace(\u001b[38;5;28mmin\u001b[39m(y), \u001b[38;5;28mmax\u001b[39m(y), \u001b[38;5;241m256\u001b[39m)\n\u001b[1;32m    214\u001b[0m )\n\u001b[0;32m--> 216\u001b[0m grid_z \u001b[38;5;241m=\u001b[39m griddata((x, y), z, (grid_x, grid_y), method\u001b[38;5;241m=\u001b[39m\u001b[38;5;124m'\u001b[39m\u001b[38;5;124mlinear\u001b[39m\u001b[38;5;124m'\u001b[39m)\n\u001b[1;32m    218\u001b[0m \u001b[38;5;28;01mreturn\u001b[39;00m grid_x, grid_y, grid_z\n",
      "File \u001b[0;32m~/.conda/envs/tumor-env/lib/python3.12/site-packages/scipy/interpolate/_ndgriddata.py:325\u001b[0m, in \u001b[0;36mgriddata\u001b[0;34m(points, values, xi, method, fill_value, rescale)\u001b[0m\n\u001b[1;32m    322\u001b[0m \u001b[38;5;28;01melif\u001b[39;00m method \u001b[38;5;241m==\u001b[39m \u001b[38;5;124m'\u001b[39m\u001b[38;5;124mlinear\u001b[39m\u001b[38;5;124m'\u001b[39m:\n\u001b[1;32m    323\u001b[0m     ip \u001b[38;5;241m=\u001b[39m LinearNDInterpolator(points, values, fill_value\u001b[38;5;241m=\u001b[39mfill_value,\n\u001b[1;32m    324\u001b[0m                               rescale\u001b[38;5;241m=\u001b[39mrescale)\n\u001b[0;32m--> 325\u001b[0m     \u001b[38;5;28;01mreturn\u001b[39;00m ip(xi)\n\u001b[1;32m    326\u001b[0m \u001b[38;5;28;01melif\u001b[39;00m method \u001b[38;5;241m==\u001b[39m \u001b[38;5;124m'\u001b[39m\u001b[38;5;124mcubic\u001b[39m\u001b[38;5;124m'\u001b[39m \u001b[38;5;129;01mand\u001b[39;00m ndim \u001b[38;5;241m==\u001b[39m \u001b[38;5;241m2\u001b[39m:\n\u001b[1;32m    327\u001b[0m     ip \u001b[38;5;241m=\u001b[39m CloughTocher2DInterpolator(points, values, fill_value\u001b[38;5;241m=\u001b[39mfill_value,\n\u001b[1;32m    328\u001b[0m                                     rescale\u001b[38;5;241m=\u001b[39mrescale)\n",
      "\u001b[0;31mKeyboardInterrupt\u001b[0m: "
     ]
    }
   ],
   "source": [
    "import os, importlib\n",
    "\n",
    "# calc total loss\n",
    "os.chdir('../lib')\n",
    "import get_loss\n",
    "importlib.reload(get_loss)\n",
    "\n",
    "from get_loss import get_loss_rgb, get_loss_grayscale, get_loss_rgbd\n",
    "\n",
    "get_loss_rgbd(\"../models/SAM1_infused_images.pth\")"
   ]
  },
  {
   "cell_type": "code",
   "execution_count": null,
   "id": "cedd7b44-9755-4bd9-912c-d0020dfe08f6",
   "metadata": {},
   "outputs": [],
   "source": []
  }
 ],
 "metadata": {
  "kernelspec": {
   "display_name": "tumor-env [~/.conda/envs/tumor-env/]",
   "language": "python",
   "name": "conda_tumor-env"
  },
  "language_info": {
   "codemirror_mode": {
    "name": "ipython",
    "version": 3
   },
   "file_extension": ".py",
   "mimetype": "text/x-python",
   "name": "python",
   "nbconvert_exporter": "python",
   "pygments_lexer": "ipython3",
   "version": "3.12.4"
  }
 },
 "nbformat": 4,
 "nbformat_minor": 5
}
